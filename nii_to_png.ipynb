{
 "cells": [
  {
   "cell_type": "code",
   "execution_count": 1,
   "id": "85dc4691",
   "metadata": {},
   "outputs": [],
   "source": [
    "import nibabel as nib\n",
    "import os\n",
    "import numpy as np\n",
    "from matplotlib import pyplot as plt"
   ]
  },
  {
   "cell_type": "code",
   "execution_count": 2,
   "id": "dbcec453",
   "metadata": {},
   "outputs": [],
   "source": [
    "from PIL import Image\n",
    "from PIL import ImageOps"
   ]
  },
  {
   "cell_type": "code",
   "execution_count": 87,
   "id": "e9bcd9f1",
   "metadata": {},
   "outputs": [],
   "source": [
    "#чтение масок\n",
    "scans_label = []\n",
    "for i in range(1):\n",
    "    scans_label.append(nib.load('F:/Dataset_images/3T/1_2_40_0_13_1_202305185587530331037528883183300767178/11/image_11_seg.nii.gz'))\n",
    "for i in range(len(scans_label)):\n",
    "    scans_label[i] = scans_label[i].get_fdata()"
   ]
  },
  {
   "cell_type": "code",
   "execution_count": 88,
   "id": "4902b624",
   "metadata": {},
   "outputs": [],
   "source": [
    "for i in range(len(scans_label)):\n",
    "    for plane in range(scans_label[i].shape[2]):\n",
    "        p = scans_label[i][:,:,plane].astype(np.uint8)\n",
    "        img = Image.fromarray(p).rotate(270) #при чтении изображения повернуты, возврат их в исходное состояние\n",
    "        img = ImageOps.mirror(img)\n",
    "        thresh = 0\n",
    "        fn = lambda x : 255 if x > thresh else 0\n",
    "        img = img.convert('L').point(fn, mode='1') \n",
    "        img.save( f'F:/Dataset_images/test/fetal_2/net_images_11/{plane}.png')"
   ]
  },
  {
   "cell_type": "code",
   "execution_count": null,
   "id": "14535b8b",
   "metadata": {},
   "outputs": [],
   "source": []
  }
 ],
 "metadata": {
  "kernelspec": {
   "display_name": "Python 3",
   "language": "python",
   "name": "python3"
  },
  "language_info": {
   "codemirror_mode": {
    "name": "ipython",
    "version": 3
   },
   "file_extension": ".py",
   "mimetype": "text/x-python",
   "name": "python",
   "nbconvert_exporter": "python",
   "pygments_lexer": "ipython3",
   "version": "3.6.13"
  }
 },
 "nbformat": 4,
 "nbformat_minor": 5
}
