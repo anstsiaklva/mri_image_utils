{
 "cells": [
  {
   "cell_type": "code",
   "execution_count": 1,
   "id": "a532e66d",
   "metadata": {},
   "outputs": [],
   "source": [
    "import os"
   ]
  },
  {
   "cell_type": "code",
   "execution_count": null,
   "id": "9cdd00fc",
   "metadata": {},
   "outputs": [],
   "source": [
    "file_names = os.listdir('E:/augmentated_data_new/images_result') #F_01_SER_1_10.png"
   ]
  },
  {
   "cell_type": "code",
   "execution_count": null,
   "id": "4a0e8d32",
   "metadata": {},
   "outputs": [],
   "source": [
    "patient_names = [item[:-4] for item in file_names]"
   ]
  },
  {
   "cell_type": "code",
   "execution_count": null,
   "id": "e68cf8bc",
   "metadata": {},
   "outputs": [],
   "source": [
    "with open(\"E:/augmentated_data_new/names.txt\", 'w') as f:\n",
    "        for name in patient_names:\n",
    "            f.write(\"{0:}\\n\".format(name))\n",
    "f.close()"
   ]
  }
 ],
 "metadata": {
  "kernelspec": {
   "display_name": "Python 3",
   "language": "python",
   "name": "python3"
  },
  "language_info": {
   "codemirror_mode": {
    "name": "ipython",
    "version": 3
   },
   "file_extension": ".py",
   "mimetype": "text/x-python",
   "name": "python",
   "nbconvert_exporter": "python",
   "pygments_lexer": "ipython3",
   "version": "3.6.13"
  }
 },
 "nbformat": 4,
 "nbformat_minor": 5
}
