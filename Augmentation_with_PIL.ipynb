{
 "cells": [
  {
   "cell_type": "code",
   "execution_count": 16,
   "id": "cd8ee212",
   "metadata": {},
   "outputs": [],
   "source": [
    "import numpy as np\n",
    "from PIL import Image\n",
    "from matplotlib import pyplot as plt\n",
    "import albumentations as A\n",
    "import os"
   ]
  },
  {
   "cell_type": "markdown",
   "id": "ab5ae47f",
   "metadata": {},
   "source": [
    "Чтение текстового файла с именами"
   ]
  },
  {
   "cell_type": "code",
   "execution_count": 17,
   "id": "41072c3b",
   "metadata": {},
   "outputs": [
    {
     "name": "stdout",
     "output_type": "stream",
     "text": [
      "['F_06_SER_1_12', 'F_10_SER_11_17', 'F_01_SER_3_2', 'F_09_SER_1_8', 'F_09_SER_3_15', 'F_07_SER_1_0', 'F_05_SER_5_9', 'F_02_SER_6_21', 'F_05_SER_5_2', 'F_04_SER_4_13', 'F_05_SER_1_7', 'F_10_SER_2_0', 'F_03_SER_4_0', 'F_03_SER_6_21', 'F_11_SER_8_5', 'F_08_SER_8_7', 'F_07_SER_6_8', 'F_04_SER_2_22', 'F_11_SER_9_12', 'F_02_SER_7_0', 'F_02_SER_6_5', 'F_05_SER_4_12', 'F_02_SER_7_9', 'F_10_SER_7_6', 'F_05_SER_2_10', 'F_03_SER_8_24', 'F_10_SER_7_12', 'F_02_SER_4_3', 'F_03_SER_9_2', 'F_06_SER_3_11', 'F_11_SER_6_4', 'F_01_SER_2_1', 'F_11_SER_9_16', 'F_04_SER_3_5', 'F_08_SER_8_12', 'F_10_SER_10_1', 'F_10_SER_3_4', 'F_06_SER_2_13', 'F_02_SER_5_27', 'F_07_SER_1_6', 'F_03_SER_8_5', 'F_06_SER_2_19', 'F_06_SER_5_1', 'F_04_SER_1_4', 'F_11_SER_5_20', 'F_08_SER_1_5', 'F_04_SER_1_8', 'F_10_SER_10_9', 'F_03_SER_3_2', 'F_03_SER_8_3', 'F_07_SER_5_18', 'F_03_SER_3_1', 'F_08_SER_7_2', 'F_10_SER_9_8', 'F_02_SER_10_2', 'F_02_SER_1_0', 'F_05_SER_1_17', 'F_06_SER_5_3', 'F_02_SER_7_5', 'F_03_SER_2_16', 'F_02_SER_2_19', 'F_08_SER_2_18', 'F_06_SER_6_5', 'F_10_SER_11_6', 'F_05_SER_4_5', 'F_08_SER_6_1', 'F_04_SER_6_10', 'F_05_SER_3_13', 'F_10_SER_1_13', 'F_02_SER_5_8', 'F_04_SER_3_12', 'F_10_SER_5_12', 'F_03_SER_2_7', 'F_02_SER_12_3', 'F_02_SER_9_20', 'F_02_SER_10_11', 'F_10_SER_2_1', 'F_02_SER_4_0', 'F_10_SER_11_3', 'F_11_SER_3_0', 'F_06_SER_5_8', 'F_11_SER_3_15', 'F_07_SER_3_9', 'F_03_SER_4_14', 'F_03_SER_5_13', 'F_06_SER_5_5', 'F_02_SER_5_20', 'F_08_SER_2_11', 'F_01_SER_6_14', 'F_10_SER_8_17', 'F_05_SER_4_8', 'F_03_SER_9_22', 'F_01_SER_5_17', 'F_02_SER_4_20', 'F_01_SER_1_5', 'F_05_SER_6_1', 'F_05_SER_6_21', 'F_11_SER_6_5', 'F_09_SER_3_16', 'F_11_SER_5_14', 'F_01_SER_4_8', 'F_10_SER_3_5', 'F_01_SER_6_1', 'F_03_SER_8_4', 'F_01_SER_8_18', 'F_01_SER_4_13', 'F_03_SER_6_9', 'F_08_SER_6_22', 'F_02_SER_3_10', 'F_03_SER_10_19', 'F_05_SER_5_23', 'F_08_SER_1_12', 'F_08_SER_4_0', 'F_03_SER_8_1', 'F_02_SER_4_14', 'F_05_SER_3_7', 'F_06_SER_3_4', 'F_10_SER_6_5', 'F_05_SER_3_9', 'F_06_SER_3_9', 'F_08_SER_9_19', 'F_08_SER_9_18', 'F_10_SER_8_16', 'F_02_SER_11_20', 'F_04_SER_4_4', 'F_11_SER_1_7', 'F_02_SER_11_10', 'F_02_SER_2_1', 'F_03_SER_9_10', 'F_08_SER_6_0', 'F_05_SER_6_10', 'F_09_SER_6_0', 'F_07_SER_3_1', 'F_02_SER_6_8', 'F_01_SER_5_3', 'F_02_SER_3_7', 'F_02_SER_9_13', 'F_07_SER_1_18', 'F_03_SER_5_5', 'F_03_SER_4_22', 'F_02_SER_3_0', 'F_08_SER_8_20', 'F_03_SER_2_21', 'F_09_SER_2_15', 'F_04_SER_5_12', 'F_02_SER_3_21', 'F_09_SER_2_2', 'F_10_SER_2_11', 'F_05_SER_4_24', 'F_04_SER_2_6', 'F_07_SER_3_21', 'F_03_SER_3_7', 'F_06_SER_2_1', 'F_07_SER_6_16', 'F_01_SER_8_4', 'F_05_SER_6_6', 'F_05_SER_4_18', 'F_04_SER_2_12', 'F_10_SER_9_15', 'F_02_SER_9_0', 'F_02_SER_6_19', 'F_02_SER_8_1', 'F_10_SER_10_3', 'F_03_SER_4_11', 'F_06_SER_6_11', 'F_08_SER_7_4', 'F_05_SER_5_12', 'F_08_SER_5_9', 'F_02_SER_9_8', 'F_11_SER_5_19', 'F_08_SER_8_23', 'F_07_SER_2_8', 'F_11_SER_5_8', 'F_11_SER_5_21', 'F_10_SER_5_19', 'F_07_SER_6_11', 'F_09_SER_1_15', 'F_02_SER_1_6', 'F_03_SER_1_16', 'F_07_SER_3_24', 'F_03_SER_1_4', 'F_02_SER_1_5', 'F_02_SER_5_18', 'F_10_SER_6_2', 'F_03_SER_10_3', 'F_06_SER_4_18', 'F_05_SER_4_6', 'F_07_SER_3_16', 'F_07_SER_6_0', 'F_08_SER_9_11', 'F_10_SER_11_8', 'F_03_SER_2_4', 'F_06_SER_7_16', 'F_02_SER_9_18', 'F_10_SER_11_9', 'F_01_SER_8_12', 'F_06_SER_7_12', 'F_06_SER_7_4', 'F_10_SER_11_16', 'F_11_SER_4_6', 'F_07_SER_1_12', 'F_02_SER_4_10', 'F_09_SER_1_17', 'F_07_SER_6_10', 'F_01_SER_8_16', 'F_01_SER_4_1', 'F_01_SER_5_0', 'F_05_SER_1_6', 'F_05_SER_2_23', 'F_11_SER_4_7', 'F_03_SER_5_21', 'F_03_SER_8_16', 'F_10_SER_7_16', 'F_05_SER_2_12', 'F_08_SER_2_6', 'F_05_SER_2_11', 'F_10_SER_7_3', 'F_11_SER_9_3', 'F_10_SER_5_18', 'F_02_SER_5_17', 'F_03_SER_2_8', 'F_11_SER_5_24', 'F_02_SER_11_16', 'F_08_SER_1_9', 'F_11_SER_6_2', 'F_02_SER_11_5', 'F_05_SER_5_22', 'F_08_SER_9_16', 'F_04_SER_6_14', 'F_04_SER_5_5', 'F_08_SER_8_0', 'F_01_SER_4_9', 'F_05_SER_1_0', 'F_10_SER_5_20', 'F_05_SER_5_15', 'F_07_SER_4_16', 'F_11_SER_5_18', 'F_01_SER_8_17', 'F_02_SER_1_3', 'F_11_SER_4_1', 'F_10_SER_7_18', 'F_06_SER_4_16', 'F_06_SER_2_16', 'F_01_SER_2_4', 'F_08_SER_4_2', 'F_09_SER_2_23', 'F_08_SER_9_23', 'F_08_SER_2_1', 'F_02_SER_2_2', 'F_02_SER_5_15', 'F_07_SER_2_14', 'F_04_SER_4_9', 'F_11_SER_5_17', 'F_11_SER_1_17', 'F_05_SER_5_29', 'F_01_SER_2_11', 'F_02_SER_11_13', 'F_11_SER_5_7', 'F_03_SER_2_1', 'F_09_SER_3_24', 'F_11_SER_9_15', 'F_04_SER_3_8', 'F_01_SER_2_2', 'F_04_SER_6_8', 'F_03_SER_7_16', 'F_03_SER_2_22', 'F_01_SER_5_14', 'F_06_SER_8_14', 'F_06_SER_8_3', 'F_04_SER_2_7', 'F_01_SER_7_5', 'F_05_SER_4_17', 'F_11_SER_4_20', 'F_08_SER_7_19', 'F_02_SER_3_9', 'F_07_SER_4_9', 'F_10_SER_8_11', 'F_11_SER_2_3', 'F_08_SER_2_14', 'F_02_SER_9_19', 'F_11_SER_8_6', 'F_03_SER_7_4', 'F_03_SER_10_18', 'F_01_SER_4_10', 'F_03_SER_5_0', 'F_01_SER_8_13', 'F_02_SER_2_9', 'F_07_SER_2_17', 'F_03_SER_2_6', 'F_03_SER_1_12', 'F_10_SER_6_10', 'F_01_SER_1_15', 'F_11_SER_7_1', 'F_06_SER_6_18', 'F_08_SER_6_5', 'F_10_SER_8_7', 'F_01_SER_7_9', 'F_10_SER_6_4', 'F_02_SER_1_12', 'F_06_SER_3_1', 'F_11_SER_3_7', 'F_01_SER_4_18', 'F_09_SER_3_14', 'F_10_SER_7_10', 'F_02_SER_11_8', 'F_07_SER_4_0', 'F_10_SER_4_12', 'F_03_SER_1_0', 'F_11_SER_5_15', 'F_05_SER_5_4', 'F_09_SER_3_13', 'F_02_SER_3_4', 'F_09_SER_4_4', 'F_09_SER_3_23', 'F_11_SER_7_4', 'F_03_SER_9_8', 'F_06_SER_1_17', 'F_11_SER_6_15', 'F_09_SER_4_13', 'F_10_SER_3_16', 'F_06_SER_3_5', 'F_01_SER_2_0', 'F_02_SER_11_25', 'F_03_SER_7_22', 'F_07_SER_3_23', 'F_11_SER_3_18', 'F_11_SER_4_15', 'F_02_SER_12_0', 'F_04_SER_5_1', 'F_06_SER_4_3', 'F_08_SER_5_6', 'F_06_SER_2_9', 'F_06_SER_7_0', 'F_04_SER_1_14', 'F_11_SER_2_15', 'F_10_SER_3_13', 'F_08_SER_4_16', 'F_10_SER_10_12', 'F_10_SER_1_18', 'F_06_SER_3_14', 'F_10_SER_2_5', 'F_02_SER_4_15', 'F_07_SER_2_7', 'F_01_SER_8_7', 'F_02_SER_4_2', 'F_06_SER_8_0', 'F_02_SER_5_3', 'F_07_SER_6_18', 'F_07_SER_1_4', 'F_07_SER_1_16', 'F_01_SER_7_2', 'F_10_SER_5_21', 'F_11_SER_1_8', 'F_02_SER_3_3', 'F_04_SER_3_14', 'F_11_SER_1_6', 'F_02_SER_8_12', 'F_07_SER_3_5', 'F_01_SER_5_15', 'F_05_SER_5_17', 'F_03_SER_7_19', 'F_11_SER_2_21', 'F_03_SER_5_24', 'F_09_SER_3_8', 'F_04_SER_3_20', 'F_04_SER_4_8', 'F_09_SER_3_4', 'F_02_SER_11_2', 'F_10_SER_9_7', 'F_02_SER_10_17', 'F_10_SER_5_3', 'F_01_SER_2_12', 'F_02_SER_9_7', 'F_08_SER_7_7', 'F_05_SER_4_20', 'F_06_SER_8_2', 'F_10_SER_12_14', 'F_05_SER_6_7', 'F_03_SER_8_18', 'F_11_SER_3_8', 'F_01_SER_3_11', 'F_02_SER_8_4', 'F_10_SER_5_7', 'F_05_SER_2_8', 'F_06_SER_2_20', 'F_07_SER_4_15', 'F_02_SER_12_1', 'F_11_SER_9_4', 'F_03_SER_4_15', 'F_09_SER_3_12', 'F_06_SER_2_8', 'F_06_SER_2_12', 'F_02_SER_10_20', 'F_08_SER_3_18', 'F_11_SER_3_12', 'F_02_SER_2_17', 'F_04_SER_3_1', 'F_04_SER_5_15', 'F_04_SER_1_6']\n"
     ]
    }
   ],
   "source": [
    "def get_image_names(image_name_txt):\n",
    "    filenames = open(image_name_txt, 'r')\n",
    "    content = filenames.read()\n",
    "    content_list = content.split(\"\\n\")\n",
    "    \n",
    "    return content_list\n",
    "\n",
    "names_txt_path = 'E:/Dataset_images/valid_names.txt'\n",
    "image_names = get_image_names(names_txt_path)\n",
    "print(image_names)"
   ]
  },
  {
   "cell_type": "code",
   "execution_count": 18,
   "id": "79a5de4e",
   "metadata": {},
   "outputs": [],
   "source": [
    "def norm_label(label):\n",
    "    thresh = 0\n",
    "    fn = lambda x : 255 if x > thresh else 0\n",
    "    label = label.convert('L').point(fn, mode='1')\n",
    "    return label"
   ]
  },
  {
   "cell_type": "markdown",
   "id": "166c05b7",
   "metadata": {},
   "source": [
    "Функция аугментации"
   ]
  },
  {
   "cell_type": "code",
   "execution_count": 19,
   "id": "19616065",
   "metadata": {},
   "outputs": [],
   "source": [
    "def apply_transform(transform, image_dir, image_name, label_dir, postfix, save_image_dir, save_label_dir, names_txt_path, label_transform = None):\n",
    "    image_path = os.path.join(image_dir, image_name+'.png')\n",
    "    label_path = os.path.join(label_dir, image_name+'_lab.png')\n",
    "    \n",
    "    image = Image.open(image_path)\n",
    "    label = Image.open(label_path)\n",
    "    image_np = np.array(image)\n",
    "    image_np = image_np.astype(np.uint16)\n",
    "    label_np = np.array(label)\n",
    "    label_np = label_np.astype(np.uint16)\n",
    "    \n",
    "    transform_result = transform(image=image_np, mask = label_np)\n",
    "    image_transformed = transform_result['image']\n",
    "    label_transformed = transform_result['mask']\n",
    "    \n",
    "    image_transformed = image_transformed.astype(np.uint32)\n",
    "    label_transformed = label_transformed.astype(np.uint32)\n",
    "    \n",
    "    image_augmentated = Image.fromarray(image_transformed)\n",
    "    label_augmentated = Image.fromarray(label_transformed)\n",
    "    \n",
    "    label_augmentated = norm_label(label_augmentated)\n",
    "    \n",
    "    image_name_save = image_name + postfix + '.png'\n",
    "    label_name_save = image_name + postfix + '_lab.png'\n",
    "    \n",
    "    image_path_save = os.path.join(save_image_dir, image_name_save)\n",
    "    label_path_save = os.path.join(save_label_dir, label_name_save)\n",
    "    \n",
    "    image_augmentated.save(image_path_save)\n",
    "    label_augmentated.save(label_path_save)\n",
    "    \n",
    "    with open(names_txt_path, 'a') as f:\n",
    "        f.write(\"{0:}\\n\".format(image_name_save[:-4]))\n",
    "    "
   ]
  },
  {
   "cell_type": "code",
   "execution_count": 20,
   "id": "a6c75787",
   "metadata": {},
   "outputs": [],
   "source": [
    "transform = A.RandomBrightnessContrast(brightness_limit=[-0.1,0], brightness_by_max=True, p=1)"
   ]
  },
  {
   "cell_type": "code",
   "execution_count": 21,
   "id": "c438c445",
   "metadata": {},
   "outputs": [],
   "source": [
    "image_dir = 'E:/Dataset_images/images'\n",
    "label_dir = 'E:/Dataset_images/labels'\n",
    "save_image_dir = 'E:/augmentated_data_new/images'\n",
    "save_label_dir = 'E:/augmentated_data_new/labels'\n",
    "postfix ='_br'\n",
    "names_txt_path = 'E:/augmentated_data_new/aug_valid.txt'\n",
    "for image_name in image_names:\n",
    "    apply_transform(transform, image_dir, image_name, label_dir, postfix, save_image_dir, save_label_dir, names_txt_path)"
   ]
  }
 ],
 "metadata": {
  "kernelspec": {
   "display_name": "Python 3",
   "language": "python",
   "name": "python3"
  },
  "language_info": {
   "codemirror_mode": {
    "name": "ipython",
    "version": 3
   },
   "file_extension": ".py",
   "mimetype": "text/x-python",
   "name": "python",
   "nbconvert_exporter": "python",
   "pygments_lexer": "ipython3",
   "version": "3.6.13"
  }
 },
 "nbformat": 4,
 "nbformat_minor": 5
}
