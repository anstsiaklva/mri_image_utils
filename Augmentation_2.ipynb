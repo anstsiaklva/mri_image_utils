{
 "cells": [
  {
   "cell_type": "code",
   "execution_count": 2,
   "id": "7157027d",
   "metadata": {},
   "outputs": [],
   "source": [
    "import numpy as np\n",
    "import cv2\n",
    "from PIL import Image\n",
    "from PIL import ImageOps, ImageEnhance, ImageFilter\n",
    "import albumentations as A\n",
    "from matplotlib import pyplot as plt\n",
    "import os"
   ]
  },
  {
   "cell_type": "code",
   "execution_count": 3,
   "id": "c3335f3c",
   "metadata": {},
   "outputs": [
    {
     "ename": "FileNotFoundError",
     "evalue": "[Errno 2] No such file or directory: 'E:/augmentated_data_new/aug_valid.txt'",
     "output_type": "error",
     "traceback": [
      "\u001b[1;31m---------------------------------------------------------------------------\u001b[0m",
      "\u001b[1;31mFileNotFoundError\u001b[0m                         Traceback (most recent call last)",
      "\u001b[1;32m<ipython-input-3-c74912e640d6>\u001b[0m in \u001b[0;36m<module>\u001b[1;34m\u001b[0m\n\u001b[0;32m     10\u001b[0m \u001b[1;33m\u001b[0m\u001b[0m\n\u001b[0;32m     11\u001b[0m \u001b[0mnames_txt_path\u001b[0m \u001b[1;33m=\u001b[0m \u001b[1;34m'E:/augmentated_data_new/aug_valid.txt'\u001b[0m\u001b[1;33m\u001b[0m\u001b[1;33m\u001b[0m\u001b[0m\n\u001b[1;32m---> 12\u001b[1;33m \u001b[0mimage_names\u001b[0m \u001b[1;33m=\u001b[0m \u001b[0mget_image_names\u001b[0m\u001b[1;33m(\u001b[0m\u001b[0mnames_txt_path\u001b[0m\u001b[1;33m)\u001b[0m\u001b[1;33m\u001b[0m\u001b[1;33m\u001b[0m\u001b[0m\n\u001b[0m",
      "\u001b[1;32m<ipython-input-3-c74912e640d6>\u001b[0m in \u001b[0;36mget_image_names\u001b[1;34m(image_name_txt)\u001b[0m\n\u001b[0;32m      1\u001b[0m \u001b[1;32mdef\u001b[0m \u001b[0mget_image_names\u001b[0m\u001b[1;33m(\u001b[0m\u001b[0mimage_name_txt\u001b[0m\u001b[1;33m)\u001b[0m\u001b[1;33m:\u001b[0m\u001b[1;33m\u001b[0m\u001b[1;33m\u001b[0m\u001b[0m\n\u001b[1;32m----> 2\u001b[1;33m     \u001b[0mfilenames\u001b[0m \u001b[1;33m=\u001b[0m \u001b[0mopen\u001b[0m\u001b[1;33m(\u001b[0m\u001b[0mimage_name_txt\u001b[0m\u001b[1;33m,\u001b[0m \u001b[1;34m'r'\u001b[0m\u001b[1;33m)\u001b[0m\u001b[1;33m\u001b[0m\u001b[1;33m\u001b[0m\u001b[0m\n\u001b[0m\u001b[0;32m      3\u001b[0m     \u001b[0mcontent\u001b[0m \u001b[1;33m=\u001b[0m \u001b[0mfilenames\u001b[0m\u001b[1;33m.\u001b[0m\u001b[0mread\u001b[0m\u001b[1;33m(\u001b[0m\u001b[1;33m)\u001b[0m\u001b[1;33m\u001b[0m\u001b[1;33m\u001b[0m\u001b[0m\n\u001b[0;32m      4\u001b[0m     \u001b[0mcontent_list\u001b[0m \u001b[1;33m=\u001b[0m \u001b[0mcontent\u001b[0m\u001b[1;33m.\u001b[0m\u001b[0msplit\u001b[0m\u001b[1;33m(\u001b[0m\u001b[1;34m\"\\n\"\u001b[0m\u001b[1;33m)\u001b[0m\u001b[1;33m\u001b[0m\u001b[1;33m\u001b[0m\u001b[0m\n\u001b[0;32m      5\u001b[0m     \u001b[1;31m#for filename in filenames:\u001b[0m\u001b[1;33m\u001b[0m\u001b[1;33m\u001b[0m\u001b[1;33m\u001b[0m\u001b[0m\n",
      "\u001b[1;31mFileNotFoundError\u001b[0m: [Errno 2] No such file or directory: 'E:/augmentated_data_new/aug_valid.txt'"
     ]
    }
   ],
   "source": [
    "def get_image_names(image_name_txt):\n",
    "    filenames = open(image_name_txt, 'r')\n",
    "    content = filenames.read()\n",
    "    content_list = content.split(\"\\n\")\n",
    "    #for filename in filenames:\n",
    "        #if filename.endswith('\\n'):\n",
    "            #filename = filename[:-2]\n",
    "        \n",
    "    return content_list\n",
    "\n",
    "names_txt_path = 'F:/augmentated_data_new/aug_valid.txt'\n",
    "image_names = get_image_names(names_txt_path)"
   ]
  },
  {
   "cell_type": "code",
   "execution_count": 7,
   "id": "60d099bf",
   "metadata": {},
   "outputs": [],
   "source": [
    "def apply_transform_rotation_flip(angle, image_dir, image_name, label_dir, postfix, save_image_dir, save_label_dir, names_txt_path):\n",
    "    image_path = os.path.join(image_dir, image_name+'.png')\n",
    "    label_path = os.path.join(label_dir, image_name+'_lab.png')\n",
    "    \n",
    "    image = Image.open(image_path)\n",
    "    label = Image.open(label_path)\n",
    "    \n",
    "#     transform \n",
    "    \n",
    "    img = image.rotate(angle)\n",
    "    #img = ImageOps.mirror(img)\n",
    "    lbl = label.rotate(angle)\n",
    "    #lbl = ImageOps.mirror(lbl)\n",
    "    thresh = 0\n",
    "    fn = lambda x : 255 if x > thresh else 0\n",
    "    lbl = lbl.convert('L').point(fn, mode='1')\n",
    "    \n",
    "    \n",
    "    image_name_save = image_name + postfix + '.png'\n",
    "    label_name_save = image_name + postfix + '_lab.png'\n",
    "    \n",
    "    image_path_save = os.path.join(save_image_dir, image_name_save)\n",
    "    label_path_save = os.path.join(save_label_dir, label_name_save)\n",
    "    \n",
    "    img.save(image_path_save)\n",
    "    lbl.save(label_path_save)\n",
    "    \n",
    "    with open(names_txt_path, 'a') as f:\n",
    "        f.write(\"{0:}\\n\".format(image_name_save[:-4]))"
   ]
  },
  {
   "cell_type": "code",
   "execution_count": 14,
   "id": "3bfcad15",
   "metadata": {},
   "outputs": [],
   "source": [
    "for i in range(3):\n",
    "    angle = np.random.uniform(90, 270)\n",
    "    image_dir = 'E:/augmentated_data_new/images'\n",
    "    label_dir = 'E:/augmentated_data_new/labels'\n",
    "    save_image_dir = 'E:/augmentated_data_new/im_r'\n",
    "    save_label_dir = 'E:/augmentated_data_new/lbl_r'\n",
    "    postfix ='_'+str(i)+'_rot'\n",
    "    names_txt_path = 'E:/augmentated_data_new/aug_rot_valid.txt'\n",
    "    for image_name in image_names:\n",
    "        apply_transform_rotation_flip(angle, image_dir, image_name, label_dir, postfix, save_image_dir, save_label_dir, names_txt_path)"
   ]
  },
  {
   "cell_type": "code",
   "execution_count": null,
   "id": "fadb6ec1",
   "metadata": {},
   "outputs": [],
   "source": []
  }
 ],
 "metadata": {
  "kernelspec": {
   "display_name": "Python 3",
   "language": "python",
   "name": "python3"
  },
  "language_info": {
   "codemirror_mode": {
    "name": "ipython",
    "version": 3
   },
   "file_extension": ".py",
   "mimetype": "text/x-python",
   "name": "python",
   "nbconvert_exporter": "python",
   "pygments_lexer": "ipython3",
   "version": "3.6.13"
  }
 },
 "nbformat": 4,
 "nbformat_minor": 5
}
